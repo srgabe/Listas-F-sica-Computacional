{
 "cells": [
  {
   "cell_type": "markdown",
   "id": "60394372",
   "metadata": {},
   "source": [
    "# Lista 1\n",
    "## Questão 1 - Implemente em python códigos para realizar a integração numérica pelas regras do trapézio e de Simpsons. Teste sua implementação para os casos abaixo."
   ]
  },
  {
   "cell_type": "markdown",
   "id": "d8d332f2",
   "metadata": {},
   "source": [
    "## a) $\\int_{0}^{2\\pi} sen(x)\\, dx = \\pi$\n",
    "\n",
    "Pela regra do trapézio:"
   ]
  },
  {
   "cell_type": "code",
   "execution_count": 37,
   "id": "230ca2bd",
   "metadata": {
    "scrolled": true
   },
   "outputs": [
    {
     "name": "stdout",
     "output_type": "stream",
     "text": [
      "Valor da Integral = 3.14159265358979400418\n"
     ]
    }
   ],
   "source": [
    "from math import sin, pi\n",
    "f = lambda x: sin(x)**2\n",
    "a = 0\n",
    "b = 2*pi\n",
    "n = 200\n",
    "h=(b - a) / n\n",
    "S = 0.5 * (f(a) + f(b))\n",
    "for i in range(1, n):\n",
    "    S += f(a+ i*h)\n",
    "Integral = h * S\n",
    "print('Valor da Integral = %.20f' % Integral)"
   ]
  },
  {
   "cell_type": "code",
   "execution_count": 66,
   "id": "b5e7a09f",
   "metadata": {},
   "outputs": [
    {
     "name": "stdout",
     "output_type": "stream",
     "text": [
      "Valor da Integral = 3.14159265358979311600\n"
     ]
    }
   ],
   "source": [
    "import numpy as np\n",
    "def trap(a, b, n):\n",
    "    x=np.linspace(a,b,n)\n",
    "    y= np.sin(x)**2\n",
    "    return np.trapz(y,x)\n",
    "print('Valor da Integral = %.20f' % trap(0, 2*np.pi, 200))"
   ]
  },
  {
   "cell_type": "markdown",
   "id": "0d4b7bd7",
   "metadata": {},
   "source": [
    "Pela regra de Simpson:"
   ]
  },
  {
   "cell_type": "code",
   "execution_count": 91,
   "id": "e946da04",
   "metadata": {},
   "outputs": [
    {
     "name": "stdout",
     "output_type": "stream",
     "text": [
      "Valor da Integral = 3.14159265358979222782\n"
     ]
    }
   ],
   "source": [
    "from math import sin, pi\n",
    "f = lambda x: sin(x)**2\n",
    "a = 0\n",
    "b = 2*pi\n",
    "n = 200\n",
    "h=(b - a) / n\n",
    "s = f(a)+f(b);\n",
    "for i in range(1, n, 2):\n",
    "        s = s +4*f(a+i*h);\n",
    "for i in range(2, n, 2):\n",
    "        s = s+ 2*f(a+i*h);\n",
    "Integral = (h/3)*s\n",
    "print('Valor da Integral = %.20f' % Integral)"
   ]
  },
  {
   "cell_type": "code",
   "execution_count": 92,
   "id": "847a7f1b",
   "metadata": {},
   "outputs": [
    {
     "name": "stdout",
     "output_type": "stream",
     "text": [
      "Valor da Integral = 3.14159265358979311600\n"
     ]
    }
   ],
   "source": [
    "import numpy as np\n",
    "import scipy.integrate as spi\n",
    "def simp(a, b, n):\n",
    "    x = np.linspace(a,b,n+1)\n",
    "    y = np.sin(x)**2\n",
    "    return spi.simps(y,x)\n",
    "print('Valor da Integral = %.20f' % simp(0, 2*np.pi, 200))"
   ]
  },
  {
   "cell_type": "markdown",
   "id": "16dec1e7",
   "metadata": {},
   "source": [
    "## b) $\\int_{-10}^{10} \\frac{e^{-x^2/2}}{\\sqrt{2\\pi}}\\, dx \\approx 1$\n",
    "\n",
    "Pela regra do trapézio:"
   ]
  },
  {
   "cell_type": "code",
   "execution_count": 68,
   "id": "f73f6760",
   "metadata": {},
   "outputs": [
    {
     "name": "stdout",
     "output_type": "stream",
     "text": [
      "Valor da Integral = 1.00000000000000088818\n"
     ]
    }
   ],
   "source": [
    "import numpy as np\n",
    "f = lambda x: (np.exp((-x ** 2)/2))/(np.sqrt(2*np.pi))\n",
    "a = -10\n",
    "b = 10\n",
    "n = 200\n",
    "h=(b - a) / n\n",
    "S = 0.5 * (f(a) + f(b))\n",
    "for i in range(1, n):\n",
    "    S += f(a+ i*h)\n",
    "Integral = h * S\n",
    "print('Valor da Integral = %.20f' % Integral)"
   ]
  },
  {
   "cell_type": "code",
   "execution_count": 67,
   "id": "baf16096",
   "metadata": {},
   "outputs": [
    {
     "name": "stdout",
     "output_type": "stream",
     "text": [
      "Valor da Integral = 1.00000000000000022204\n"
     ]
    }
   ],
   "source": [
    "import numpy as np\n",
    "def trap(a, b, n):\n",
    "    x=np.linspace(a,b,n)\n",
    "    y= (np.exp((-x ** 2)/2))/(np.sqrt(2*np.pi))\n",
    "    return np.trapz(y,x)\n",
    "print('Valor da Integral = %.20f' % trap(-10, 10, 200))"
   ]
  },
  {
   "cell_type": "markdown",
   "id": "8c277328",
   "metadata": {},
   "source": [
    "Pela regra de Simpson:"
   ]
  },
  {
   "cell_type": "code",
   "execution_count": 72,
   "id": "4e7a20f0",
   "metadata": {},
   "outputs": [
    {
     "name": "stdout",
     "output_type": "stream",
     "text": [
      "Valor da Integral = 1.00000000000000044409\n"
     ]
    }
   ],
   "source": [
    "import numpy as np\n",
    "from math import sin, pi\n",
    "f = lambda x: (np.exp((-x ** 2)/2))/(np.sqrt(2*np.pi))\n",
    "a = -10\n",
    "b = 10\n",
    "n = 200\n",
    "h=(b - a) / n\n",
    "s = f(a)+f(b);\n",
    "for i in range(1, n, 2):\n",
    "        s = s +4*f(a+i*h);\n",
    "for i in range(2, n, 2):\n",
    "        s = s+ 2*f(a+i*h);\n",
    "Integral = (h/3)*s\n",
    "print('Valor da Integral = %.20f' % Integral)"
   ]
  },
  {
   "cell_type": "code",
   "execution_count": 93,
   "id": "08e366b7",
   "metadata": {},
   "outputs": [
    {
     "name": "stdout",
     "output_type": "stream",
     "text": [
      "Valor da Integral = 1.00000000000000000000\n"
     ]
    }
   ],
   "source": [
    "import numpy as np\n",
    "import scipy.integrate as spi\n",
    "def simp(a, b, n):\n",
    "    x = np.linspace(a,b,n+1)\n",
    "    y = (np.exp((-x ** 2)/2))/(np.sqrt(2*np.pi))\n",
    "    return spi.simps(y,x)\n",
    "print('Valor da Integral = %.20f' % simp(-10, 10, 200))"
   ]
  },
  {
   "cell_type": "markdown",
   "id": "3feeeaba",
   "metadata": {},
   "source": [
    "## c) $\\int_{1}^{5} \\frac{1}{x-7}\\, dx \\approx -1.0987$\n",
    "\n",
    "Pela regra do trapézio:"
   ]
  },
  {
   "cell_type": "code",
   "execution_count": 71,
   "id": "42c918ae",
   "metadata": {},
   "outputs": [
    {
     "name": "stdout",
     "output_type": "stream",
     "text": [
      "Valor da Integral = -1.09861969599321596114\n"
     ]
    }
   ],
   "source": [
    "import numpy as np\n",
    "f = lambda x: 1/(x-7)\n",
    "a = 1\n",
    "b = 5\n",
    "n = 200\n",
    "h=(b - a) / n\n",
    "S = 0.5 * (f(a) + f(b))\n",
    "for i in range(1, n):\n",
    "    S += f(a+ i*h)\n",
    "Integral = h * S\n",
    "print('Valor da Integral = %.20f' % Integral)"
   ]
  },
  {
   "cell_type": "code",
   "execution_count": 69,
   "id": "9dae744e",
   "metadata": {},
   "outputs": [
    {
     "name": "stdout",
     "output_type": "stream",
     "text": [
      "Valor da Integral = -1.09861977062490634438\n"
     ]
    }
   ],
   "source": [
    "import numpy as np\n",
    "def trap(a, b, n):\n",
    "    x=np.linspace(a,b,n)\n",
    "    y= 1/(x-7)\n",
    "    return np.trapz(y,x)\n",
    "print('Valor da Integral = %.20f' % trap(1, 5, 200))"
   ]
  },
  {
   "cell_type": "markdown",
   "id": "4da29fd9",
   "metadata": {},
   "source": [
    "Pela regra de Simpson:"
   ]
  },
  {
   "cell_type": "code",
   "execution_count": 70,
   "id": "d15e80f2",
   "metadata": {},
   "outputs": [
    {
     "name": "stdout",
     "output_type": "stream",
     "text": [
      "Valor da Integral = -1.09861228899724872043\n"
     ]
    }
   ],
   "source": [
    "import numpy as np\n",
    "f = lambda x: 1/(x-7)\n",
    "a = 1\n",
    "b = 5\n",
    "n = 200\n",
    "h=(b - a) / n\n",
    "s = f(a)+f(b);\n",
    "for i in range(1, n, 2):\n",
    "        s = s +4*f(a+i*h);\n",
    "for i in range(2, n, 2):\n",
    "        s = s+ 2*f(a+i*h);\n",
    "Integral = (h/3)*s\n",
    "print('Valor da Integral = %.20f' % Integral)"
   ]
  },
  {
   "cell_type": "code",
   "execution_count": 94,
   "id": "392a3da9",
   "metadata": {},
   "outputs": [
    {
     "name": "stdout",
     "output_type": "stream",
     "text": [
      "Valor da Integral = -1.09861228899724872043\n"
     ]
    }
   ],
   "source": [
    "import numpy as np\n",
    "import scipy.integrate as spi\n",
    "def simp(a, b, n):\n",
    "    x = np.linspace(a,b,n+1)\n",
    "    y = 1/(x-7)\n",
    "    return spi.simps(y,x)\n",
    "print('Valor da Integral = %.20f' % simp(1, 5, 200))"
   ]
  },
  {
   "cell_type": "markdown",
   "id": "0a0a46f2",
   "metadata": {},
   "source": [
    "## d) $\\int_{8}^{15} ln(x) \\, dx \\approx 16.9852$\n",
    "\n",
    "Pela regra do trapézio:"
   ]
  },
  {
   "cell_type": "code",
   "execution_count": 73,
   "id": "84148e88",
   "metadata": {},
   "outputs": [
    {
     "name": "stdout",
     "output_type": "stream",
     "text": [
      "Valor da Integral = 16.98521472824025124737\n"
     ]
    }
   ],
   "source": [
    "import numpy as np\n",
    "f = lambda x: np.log(x)\n",
    "a = 8\n",
    "b = 15\n",
    "n = 200\n",
    "h=(b - a) / n\n",
    "S = 0.5 * (f(a) + f(b))\n",
    "for i in range(1, n):\n",
    "    S += f(a+ i*h)\n",
    "Integral = h * S\n",
    "print('Valor da Integral = %.20f' % Integral)"
   ]
  },
  {
   "cell_type": "code",
   "execution_count": 81,
   "id": "214ce076",
   "metadata": {},
   "outputs": [
    {
     "name": "stdout",
     "output_type": "stream",
     "text": [
      "Valor da Integral = 16.98521466824217895919\n"
     ]
    }
   ],
   "source": [
    "import numpy as np\n",
    "def trap(a, b, n):\n",
    "    x=np.linspace(a,b,n)\n",
    "    y= np.log(x)\n",
    "    return np.trapz(y,x)\n",
    "print('Valor da Integral = %.20f' % trap(8, 15, 200))"
   ]
  },
  {
   "cell_type": "markdown",
   "id": "8fb7fdb0",
   "metadata": {},
   "source": [
    "Pela regra de Simpson:"
   ]
  },
  {
   "cell_type": "code",
   "execution_count": 74,
   "id": "b916344d",
   "metadata": {},
   "outputs": [
    {
     "name": "stdout",
     "output_type": "stream",
     "text": [
      "Valor da Integral = 16.98522068306684218442\n"
     ]
    }
   ],
   "source": [
    "import numpy as np\n",
    "f = lambda x: np.log(x)\n",
    "a = 8\n",
    "b = 15\n",
    "n = 200\n",
    "h=(b - a) / n\n",
    "s = f(a)+f(b);\n",
    "for i in range(1, n, 2):\n",
    "        s = s +4*f(a+i*h);\n",
    "for i in range(2, n, 2):\n",
    "        s = s+ 2*f(a+i*h);\n",
    "Integral = (h/3)*s\n",
    "print('Valor da Integral = %.20f' % Integral)"
   ]
  },
  {
   "cell_type": "code",
   "execution_count": 95,
   "id": "6c81f881",
   "metadata": {},
   "outputs": [
    {
     "name": "stdout",
     "output_type": "stream",
     "text": [
      "Valor da Integral = 16.98522068306684218442\n"
     ]
    }
   ],
   "source": [
    "import numpy as np\n",
    "import scipy.integrate as spi\n",
    "def simp(a, b, n):\n",
    "    x = np.linspace(a,b,n+1)\n",
    "    y = np.log(x)\n",
    "    return spi.simps(y,x)\n",
    "print('Valor da Integral = %.20f' % simp(8, 15, 200))"
   ]
  },
  {
   "cell_type": "markdown",
   "id": "21f08bda",
   "metadata": {},
   "source": [
    "## e) $\\int_{-1}^{1} \\frac{1}{2+cos(x)} \\, dx \\approx 0.7056$\n",
    "\n",
    "Pela regra do trapézio:"
   ]
  },
  {
   "cell_type": "code",
   "execution_count": 75,
   "id": "47d97c78",
   "metadata": {},
   "outputs": [
    {
     "name": "stdout",
     "output_type": "stream",
     "text": [
      "Valor da Integral = 0.70559775981375216780\n"
     ]
    }
   ],
   "source": [
    "import numpy as np\n",
    "f = lambda x: 1/(2+np.cos(x))\n",
    "a = -1\n",
    "b = 1\n",
    "n = 200\n",
    "h=(b - a) / n\n",
    "S = 0.5 * (f(a) + f(b))\n",
    "for i in range(1, n):\n",
    "    S += f(a+ i*h)\n",
    "Integral = h * S\n",
    "print('Valor da Integral = %.20f' % Integral)"
   ]
  },
  {
   "cell_type": "code",
   "execution_count": 82,
   "id": "a20263a7",
   "metadata": {},
   "outputs": [
    {
     "name": "stdout",
     "output_type": "stream",
     "text": [
      "Valor da Integral = 0.70559778171064380103\n"
     ]
    }
   ],
   "source": [
    "import numpy as np\n",
    "def trap(a, b, n):\n",
    "    x=np.linspace(a,b,n)\n",
    "    y= 1/(2+np.cos(x))\n",
    "    return np.trapz(y,x)\n",
    "print('Valor da Integral = %.20f' % trap(-1, 1, 200))"
   ]
  },
  {
   "cell_type": "markdown",
   "id": "e33a6a69",
   "metadata": {},
   "source": [
    "Pela regra de Simpson:"
   ]
  },
  {
   "cell_type": "code",
   "execution_count": 76,
   "id": "73bf6e0a",
   "metadata": {},
   "outputs": [
    {
     "name": "stdout",
     "output_type": "stream",
     "text": [
      "Valor da Integral = 0.70559558654363685459\n"
     ]
    }
   ],
   "source": [
    "import numpy as np\n",
    "f = lambda x: 1/(2+np.cos(x))\n",
    "a = -1\n",
    "b = 1\n",
    "n = 200\n",
    "h=(b - a) / n\n",
    "s = f(a)+f(b);\n",
    "for i in range(1, n, 2):\n",
    "        s = s +4*f(a+i*h);\n",
    "for i in range(2, n, 2):\n",
    "        s = s+ 2*f(a+i*h);\n",
    "Integral = (h/3)*s\n",
    "print('Valor da Integral = %.20f' % Integral)"
   ]
  },
  {
   "cell_type": "code",
   "execution_count": 96,
   "id": "7e758992",
   "metadata": {},
   "outputs": [
    {
     "name": "stdout",
     "output_type": "stream",
     "text": [
      "Valor da Integral = 0.70559558654363629948\n"
     ]
    }
   ],
   "source": [
    "import numpy as np\n",
    "import scipy.integrate as spi\n",
    "def simp(a, b, n):\n",
    "    x = np.linspace(a,b,n+1)\n",
    "    y = 1/(2+np.cos(x))\n",
    "    return spi.simps(y,x)\n",
    "print('Valor da Integral = %.20f' % simp(-1, 1, 200))"
   ]
  },
  {
   "cell_type": "markdown",
   "id": "e9537262",
   "metadata": {},
   "source": [
    "## f) $\\int_{0}^{9} \\frac{1}{1+e^x}\\, dx = 0.6924$\n",
    "\n",
    "Pela regra do trapézio:"
   ]
  },
  {
   "cell_type": "code",
   "execution_count": 77,
   "id": "757f9ad0",
   "metadata": {},
   "outputs": [
    {
     "name": "stdout",
     "output_type": "stream",
     "text": [
      "Valor da Integral = 0.69306594576264202168\n"
     ]
    }
   ],
   "source": [
    "import numpy as np\n",
    "f = lambda x: 1/(1 + np.exp(x))\n",
    "a = 0\n",
    "b = 9\n",
    "n = 200\n",
    "h=(b - a) / n\n",
    "S = 0.5 * (f(a) + f(b))\n",
    "for i in range(1, n):\n",
    "    S += f(a+ i*h)\n",
    "Integral = h * S\n",
    "print('Valor da Integral = %.20f' % Integral)"
   ]
  },
  {
   "cell_type": "code",
   "execution_count": 83,
   "id": "ed918b89",
   "metadata": {},
   "outputs": [
    {
     "name": "stdout",
     "output_type": "stream",
     "text": [
      "Valor da Integral = 0.69306637062759024470\n"
     ]
    }
   ],
   "source": [
    "import numpy as np\n",
    "def trap(a, b, n):\n",
    "    x=np.linspace(a,b,n)\n",
    "    y= 1/(1 + np.exp(x))\n",
    "    return np.trapz(y,x)\n",
    "print('Valor da Integral = %.20f' % trap(0, 9, 200))"
   ]
  },
  {
   "cell_type": "markdown",
   "id": "5df1d045",
   "metadata": {},
   "source": [
    "Pela regra de Simpson:"
   ]
  },
  {
   "cell_type": "code",
   "execution_count": 78,
   "id": "59a9c04a",
   "metadata": {},
   "outputs": [
    {
     "name": "stdout",
     "output_type": "stream",
     "text": [
      "Valor da Integral = 0.69302377551838367786\n"
     ]
    }
   ],
   "source": [
    "import numpy as np\n",
    "f = lambda x: 1/(1 + np.exp(x))\n",
    "a = 0\n",
    "b = 9\n",
    "n = 200\n",
    "h=(b - a) / n\n",
    "s = f(a)+f(b);\n",
    "for i in range(1, n, 2):\n",
    "        s = s +4*f(a+i*h);\n",
    "for i in range(2, n, 2):\n",
    "        s = s+ 2*f(a+i*h);\n",
    "Integral = (h/3)*s\n",
    "print('Valor da Integral = %.20f' % Integral)"
   ]
  },
  {
   "cell_type": "code",
   "execution_count": 97,
   "id": "656e197b",
   "metadata": {},
   "outputs": [
    {
     "name": "stdout",
     "output_type": "stream",
     "text": [
      "Valor da Integral = 0.69302377551838356684\n"
     ]
    }
   ],
   "source": [
    "import numpy as np\n",
    "import scipy.integrate as spi\n",
    "def simp(a, b, n):\n",
    "    x = np.linspace(a,b,n+1)\n",
    "    y = 1/(1 + np.exp(x))\n",
    "    return spi.simps(y,x)\n",
    "print('Valor da Integral = %.20f' % simp(0, 9, 200))"
   ]
  },
  {
   "cell_type": "markdown",
   "id": "8242b830",
   "metadata": {},
   "source": [
    "## g) $\\int_{1}^{2} x.sen(x)\\, dx = 1.44042$\n",
    "\n",
    "Pela regra do trapézio:"
   ]
  },
  {
   "cell_type": "code",
   "execution_count": 79,
   "id": "e1db600c",
   "metadata": {},
   "outputs": [
    {
     "name": "stdout",
     "output_type": "stream",
     "text": [
      "Valor da Integral = 1.44041970270932639941\n"
     ]
    }
   ],
   "source": [
    "import numpy as np\n",
    "f = lambda x: x*np.sin(x)\n",
    "a = 1\n",
    "b = 2\n",
    "n = 200\n",
    "h=(b - a) / n\n",
    "S = 0.5 * (f(a) + f(b))\n",
    "for i in range(1, n):\n",
    "    S += f(a+ i*h)\n",
    "Integral = h * S\n",
    "print('Valor da Integral = %.20f' % Integral)"
   ]
  },
  {
   "cell_type": "code",
   "execution_count": 84,
   "id": "1b96d6e5",
   "metadata": {},
   "outputs": [
    {
     "name": "stdout",
     "output_type": "stream",
     "text": [
      "Valor da Integral = 1.44041967532136894192\n"
     ]
    }
   ],
   "source": [
    "import numpy as np\n",
    "def trap(a, b, n):\n",
    "    x=np.linspace(a,b,n)\n",
    "    y= x*np.sin(x)\n",
    "    return np.trapz(y,x)\n",
    "print('Valor da Integral = %.20f' % trap(1, 2, 200))"
   ]
  },
  {
   "cell_type": "markdown",
   "id": "035f44bb",
   "metadata": {},
   "source": [
    "Pela regra de Simpson:"
   ]
  },
  {
   "cell_type": "code",
   "execution_count": 80,
   "id": "b25e87ff",
   "metadata": {},
   "outputs": [
    {
     "name": "stdout",
     "output_type": "stream",
     "text": [
      "Valor da Integral = 1.44042242098427020203\n"
     ]
    }
   ],
   "source": [
    "import numpy as np\n",
    "f = lambda x: x*np.sin(x)\n",
    "a = 1\n",
    "b = 2\n",
    "n = 200\n",
    "h=(b - a) / n\n",
    "s = f(a)+f(b);\n",
    "for i in range(1, n, 2):\n",
    "        s = s +4*f(a+i*h);\n",
    "for i in range(2, n, 2):\n",
    "        s = s+ 2*f(a+i*h);\n",
    "Integral = (h/3)*s\n",
    "print('Valor da Integral = %.20f' % Integral)"
   ]
  },
  {
   "cell_type": "code",
   "execution_count": 98,
   "id": "84ac841c",
   "metadata": {},
   "outputs": [
    {
     "name": "stdout",
     "output_type": "stream",
     "text": [
      "Valor da Integral = 1.44042242098426886976\n"
     ]
    }
   ],
   "source": [
    "import numpy as np\n",
    "import scipy.integrate as spi\n",
    "def simp(a, b, n):\n",
    "    x = np.linspace(a,b,n+1)\n",
    "    y = x*np.sin(x)\n",
    "    return spi.simps(y,x)\n",
    "print('Valor da Integral = %.20f' % simp(1, 2, 200))"
   ]
  },
  {
   "cell_type": "markdown",
   "id": "1f7a3c9a",
   "metadata": {},
   "source": [
    "## h) Compare os resultados com N=200 e N=1000. Qual método é mais preciso? Trapézio ou Simpson’s?\n",
    "\n",
    "Até então foram realizados dois tipos de métodos para cada uma das duas regras, sendo um método utilizando o cálculo padrão da regra e o outro método utilizando comando específicos da biblioteca numpy e scipy para realizar a integral. Em todos os casos este segundo método foi mais preciso, de forma maior para a regra de Simpson (em n=200). Para testar a eficiência de N=1000, podemos utilizar a primeira integral a), na qual deve-se obter o resultado bem específicado (π=3,14159265358979323846):"
   ]
  },
  {
   "cell_type": "code",
   "execution_count": 6,
   "id": "9a321486",
   "metadata": {},
   "outputs": [
    {
     "name": "stdout",
     "output_type": "stream",
     "text": [
      "Valor da Integral = 3.14159265358979222782\n"
     ]
    }
   ],
   "source": [
    "from math import sin, pi\n",
    "f = lambda x: sin(x)**2\n",
    "a = 0\n",
    "b = 2*pi\n",
    "n = 1000\n",
    "h=(b - a) / n\n",
    "S = 0.5 * (f(a) + f(b))\n",
    "for i in range(1, n):\n",
    "    S += f(a+ i*h)\n",
    "Integral = h * S\n",
    "print('Valor da Integral = %.20f' % Integral)"
   ]
  },
  {
   "cell_type": "code",
   "execution_count": 4,
   "id": "ffa7b6cb",
   "metadata": {},
   "outputs": [
    {
     "name": "stdout",
     "output_type": "stream",
     "text": [
      "Valor da Integral = 3.14159265358979311600\n"
     ]
    }
   ],
   "source": [
    "import numpy as np\n",
    "def trap(a, b, n):\n",
    "    x=np.linspace(a,b,n)\n",
    "    y= np.sin(x)**2\n",
    "    return np.trapz(y,x)\n",
    "print('Valor da Integral = %.20f' % trap(0, 2*np.pi, 1000))"
   ]
  },
  {
   "cell_type": "code",
   "execution_count": 7,
   "id": "53b63c67",
   "metadata": {},
   "outputs": [
    {
     "name": "stdout",
     "output_type": "stream",
     "text": [
      "Valor da Integral = 3.14159265358979489235\n"
     ]
    }
   ],
   "source": [
    "from math import sin, pi\n",
    "f = lambda x: sin(x)**2\n",
    "a = 0\n",
    "b = 2*pi\n",
    "n = 1000\n",
    "h=(b - a) / n\n",
    "s = f(a)+f(b);\n",
    "for i in range(1, n, 2):\n",
    "        s = s +4*f(a+i*h);\n",
    "for i in range(2, n, 2):\n",
    "        s = s+ 2*f(a+i*h);\n",
    "Integral = (h/3)*s\n",
    "print('Valor da Integral = %.20f' % Integral)"
   ]
  },
  {
   "cell_type": "code",
   "execution_count": 5,
   "id": "e7c04522",
   "metadata": {},
   "outputs": [
    {
     "name": "stdout",
     "output_type": "stream",
     "text": [
      "Valor da Integral = 3.14159265358979311600\n"
     ]
    }
   ],
   "source": [
    "import numpy as np\n",
    "import scipy.integrate as spi\n",
    "def simp(a, b, n):\n",
    "    x = np.linspace(a,b,n+1)\n",
    "    y = np.sin(x)**2\n",
    "    return spi.simps(y,x)\n",
    "print('Valor da Integral = %.20f' % simp(0, 2*np.pi, 1000))"
   ]
  },
  {
   "cell_type": "markdown",
   "id": "324c8a92",
   "metadata": {},
   "source": [
    "Logo, vemos que para o primeiro método obtivemos resultados mais precisos, porém ainda não tão precisos quanto ao segundo método, sendo a regra de Simpson ainda melhor."
   ]
  },
  {
   "cell_type": "markdown",
   "id": "510c8790",
   "metadata": {},
   "source": [
    "## i) Explique a diferença de precisão em termos da análise do erro das aproximações. \n",
    "\n",
    "Realizando o erro para os exemplos anterior:"
   ]
  },
  {
   "cell_type": "code",
   "execution_count": 16,
   "id": "4f4c8c44",
   "metadata": {},
   "outputs": [
    {
     "name": "stdout",
     "output_type": "stream",
     "text": [
      "Erro para n=200 pela regra do Trapézio= 0.00000000000000028272\n",
      "Erro para n=1000 pela regra do Trapézio= 0.00000000000000028272\n"
     ]
    }
   ],
   "source": [
    "import numpy as np\n",
    "erro1 = np.absolute((3.14159265358979400418 - 3.14159265358979323846)/3.14159265358979323846)\n",
    "erro2 = np.absolute((3.14159265358979222782 - 3.14159265358979323846)/3.14159265358979323846)\n",
    "print('Erro para n=200 pela regra do Trapézio= %.20f' % erro1)\n",
    "print('Erro para n=1000 pela regra do Trapézio= %.20f' % erro2)"
   ]
  },
  {
   "cell_type": "code",
   "execution_count": 15,
   "id": "5c7ce29d",
   "metadata": {},
   "outputs": [
    {
     "name": "stdout",
     "output_type": "stream",
     "text": [
      "Erro para n=200 pela regra de Simpson= 0.00000000000000028272\n",
      "Erro para n=1000 pela regra de Simpson= 0.00000000000000056543\n"
     ]
    }
   ],
   "source": [
    "import numpy as np\n",
    "erro1 = np.absolute((3.14159265358979222782 - 3.14159265358979323846)/3.14159265358979323846)\n",
    "erro2 = np.absolute((3.14159265358979489235 - 3.14159265358979323846)/3.14159265358979323846)\n",
    "print('Erro para n=200 pela regra de Simpson= %.20f' % erro1)\n",
    "print('Erro para n=1000 pela regra de Simpson= %.20f' % erro2)"
   ]
  },
  {
   "cell_type": "markdown",
   "id": "14c1fd99",
   "metadata": {},
   "source": [
    "Tendo estes erros, percebe-se que para o número de pontos utilizados não houve tanta diferença para 20 casas decimais, apesar de que quanto mais o valor de n sobe, mais preciso o valor da integral será. Temos porém uma excessão para o caso acima onde o erro foi maior para n=1000. Esta excessão não deveria ocorrer."
   ]
  },
  {
   "cell_type": "markdown",
   "id": "59037919",
   "metadata": {},
   "source": [
    "## Questão 2 - Faça gráficos do resultado de cada uma das integrais acima como função do número de pontos N variando 20 < N < 1000.\n",
    "\n",
    "## a) Gráficos do resultado de cada uma das integrais como função do número de pontos N variando 20 < N < 1000."
   ]
  },
  {
   "cell_type": "code",
   "execution_count": 131,
   "id": "9fef6b27",
   "metadata": {
    "scrolled": true
   },
   "outputs": [
    {
     "data": {
      "image/png": "[encoded data removed]",
      "text/plain": [
       "<Figure size 432x288 with 1 Axes>"
      ]
     },
     "metadata": {
      "needs_background": "light"
     },
     "output_type": "display_data"
    }
   ],
   "source": [
    "import numpy as np\n",
    "import matplotlib.pyplot as plt\n",
    "import scipy.integrate as spi\n",
    "\n",
    "#Trapézio\n",
    "def trap(a, b, n):\n",
    "    x=np.linspace(a,b,n)\n",
    "    y= np.sin(x)**2\n",
    "    return np.trapz(y,x)\n",
    "    \n",
    "\n",
    "intladot = []\n",
    "nladot = []\n",
    "for n in range(20, 1001):\n",
    "   intladot.append(trap(0, 2*np.pi, n))\n",
    "    \n",
    "for n in range(20, 1001):\n",
    "   nladot.append(n)\n",
    "\n",
    "\n",
    "#Simpson\n",
    "def simp(a, b, n):\n",
    "    x = np.linspace(a,b,n+1)\n",
    "    y = np.sin(x)**2\n",
    "    return spi.simps(y,x)\n",
    "\n",
    "\n",
    "intlados = []\n",
    "nlados = []\n",
    "for n in range(20, 1001):\n",
    "   intlados.append(simp(0, 2*np.pi, n))\n",
    "    \n",
    "for n in range(20, 1001):\n",
    "   nlados.append(n)\n",
    "\n",
    "\n",
    "\n",
    "\n",
    "#Plotagem do gráfico\n",
    "plt.plot(nladot, intladot, label='Trapézio')\n",
    "plt.plot(nlados, intlados, label='Simpson')\n",
    "plt.title('Gráfico para integral a)')\n",
    "plt.xlabel('Número de pontos')\n",
    "plt.ylabel('Resultados da integral')\n",
    "plt.legend(bbox_to_anchor=(1.05, 1), loc='upper left', borderaxespad=0.)\n",
    "\n",
    "plt.show()\n"
   ]
  },
  {
   "cell_type": "code",
   "execution_count": 89,
   "id": "1cd4ba88",
   "metadata": {
    "scrolled": true
   },
   "outputs": [
    {
     "data": {
      "image/png": "[encoded data removed]",
      "text/plain": [
       "<Figure size 432x288 with 1 Axes>"
      ]
     },
     "metadata": {
      "needs_background": "light"
     },
     "output_type": "display_data"
    }
   ],
   "source": [
    "import numpy as np\n",
    "import matplotlib.pyplot as plt\n",
    "import scipy.integrate as spi\n",
    "\n",
    "#Trapézio\n",
    "def trap(a, b, n):\n",
    "    x=np.linspace(a,b,n)\n",
    "    y= (np.exp((-x ** 2)/2))/(np.sqrt(2*np.pi))\n",
    "    return np.trapz(y,x)\n",
    "    \n",
    "\n",
    "intladot = []\n",
    "nladot = []\n",
    "for n in range(20, 1001):\n",
    "   intladot.append(trap(-10, 10, n))\n",
    "    \n",
    "for n in range(20, 1001):\n",
    "   nladot.append(n)\n",
    "\n",
    "\n",
    "#Simpson\n",
    "def simp(a, b, n):\n",
    "    x = np.linspace(a,b,n+1)\n",
    "    y = (np.exp((-x ** 2)/2))/(np.sqrt(2*np.pi))\n",
    "    return spi.simps(y,x)\n",
    "\n",
    "\n",
    "intlados = []\n",
    "nlados = []\n",
    "for n in range(20, 1001):\n",
    "   intlados.append(simp(-10, 10, n))\n",
    "    \n",
    "for n in range(20, 1001):\n",
    "   nlados.append(n)\n",
    "\n",
    "\n",
    "\n",
    "\n",
    "#Plotagem do gráfico\n",
    "plt.plot(nladot, intladot, label='Trapézio')\n",
    "plt.plot(nlados, intlados, label='Simpson')\n",
    "plt.title('Gráfico para integral b)')\n",
    "plt.xlabel('Número de pontos')\n",
    "plt.ylabel('Resultados da integral')\n",
    "plt.legend(bbox_to_anchor=(1.05, 1), loc='upper left', borderaxespad=0.)\n",
    "\n",
    "plt.show()"
   ]
  },
  {
   "cell_type": "code",
   "execution_count": 85,
   "id": "b0418fd9",
   "metadata": {
    "scrolled": false
   },
   "outputs": [
    {
     "data": {
      "image/png": "[encoded data removed]",
      "text/plain": [
       "<Figure size 432x288 with 1 Axes>"
      ]
     },
     "metadata": {
      "needs_background": "light"
     },
     "output_type": "display_data"
    }
   ],
   "source": [
    "import numpy as np\n",
    "import matplotlib.pyplot as plt\n",
    "import scipy.integrate as spi\n",
    "\n",
    "#Trapézio\n",
    "def trap(a, b, n):\n",
    "    x=np.linspace(a,b,n)\n",
    "    y= 1/(x-7)\n",
    "    return np.trapz(y,x)\n",
    "    \n",
    "\n",
    "intladot = []\n",
    "nladot = []\n",
    "for n in range(20, 1001):\n",
    "   intladot.append(trap(1, 5, n))\n",
    "    \n",
    "for n in range(20, 1001):\n",
    "   nladot.append(n)\n",
    "\n",
    "\n",
    "#Simpson\n",
    "def simp(a, b, n):\n",
    "    x = np.linspace(a,b,n+1)\n",
    "    y = 1/(x-7)\n",
    "    return spi.simps(y,x)\n",
    "\n",
    "\n",
    "intlados = []\n",
    "nlados = []\n",
    "for n in range(20, 1001):\n",
    "   intlados.append(simp(1, 5, n))\n",
    "    \n",
    "for n in range(20, 1001):\n",
    "   nlados.append(n)\n",
    "\n",
    "\n",
    "\n",
    "\n",
    "#Plotagem do gráfico\n",
    "plt.plot(nladot, intladot, label='Trapézio')\n",
    "plt.plot(nlados, intlados, label='Simpson')\n",
    "plt.title('Gráfico para integral c)')\n",
    "plt.xlabel('Número de pontos')\n",
    "plt.ylabel('Resultados da integral')\n",
    "plt.legend(bbox_to_anchor=(1.05, 1), loc='upper left', borderaxespad=0.)\n",
    "\n",
    "plt.show()"
   ]
  },
  {
   "cell_type": "code",
   "execution_count": 100,
   "id": "e88ee1ab",
   "metadata": {
    "scrolled": true
   },
   "outputs": [
    {
     "data": {
      "image/png": "[encoded data removed]",
      "text/plain": [
       "<Figure size 432x288 with 1 Axes>"
      ]
     },
     "metadata": {
      "needs_background": "light"
     },
     "output_type": "display_data"
    }
   ],
   "source": [
    "import numpy as np\n",
    "import matplotlib.pyplot as plt\n",
    "import scipy.integrate as spi\n",
    "\n",
    "#Trapézio\n",
    "def trap(a, b, n):\n",
    "    x=np.linspace(a,b,n)\n",
    "    y= np.log(x)\n",
    "    return np.trapz(y,x)\n",
    "    \n",
    "\n",
    "intladot = []\n",
    "nladot = []\n",
    "for n in range(20, 1001):\n",
    "   intladot.append(trap(8, 15, n))\n",
    "    \n",
    "for n in range(20, 1001):\n",
    "   nladot.append(n)\n",
    "\n",
    "\n",
    "#Simpson\n",
    "def simp(a, b, n):\n",
    "    x = np.linspace(a,b,n+1)\n",
    "    y = np.log(x)\n",
    "    return spi.simps(y,x)\n",
    "\n",
    "\n",
    "intlados = []\n",
    "nlados = []\n",
    "for n in range(20, 1001):\n",
    "   intlados.append(simp(8, 15, n))\n",
    "    \n",
    "for n in range(20, 1001):\n",
    "   nlados.append(n)\n",
    "\n",
    "\n",
    "\n",
    "\n",
    "#Plotagem do gráfico\n",
    "plt.plot(nladot, intladot, label='Trapézio')\n",
    "plt.plot(nlados, intlados, label='Simpson')\n",
    "plt.title('Gráfico para integral d)')\n",
    "plt.xlabel('Número de pontos')\n",
    "plt.ylabel('Resultados da integral')\n",
    "plt.legend(bbox_to_anchor=(1.05, 1), loc='upper left', borderaxespad=0.)\n",
    "\n",
    "plt.show()"
   ]
  },
  {
   "cell_type": "code",
   "execution_count": 101,
   "id": "4e2ca280",
   "metadata": {
    "scrolled": true
   },
   "outputs": [
    {
     "data": {
      "image/png": "[encoded data removed]",
      "text/plain": [
       "<Figure size 432x288 with 1 Axes>"
      ]
     },
     "metadata": {
      "needs_background": "light"
     },
     "output_type": "display_data"
    }
   ],
   "source": [
    "import numpy as np\n",
    "import matplotlib.pyplot as plt\n",
    "import scipy.integrate as spi\n",
    "\n",
    "#Trapézio\n",
    "def trap(a, b, n):\n",
    "    x=np.linspace(a,b,n)\n",
    "    y= 1/(2+np.cos(x))\n",
    "    return np.trapz(y,x)\n",
    "    \n",
    "\n",
    "intladot = []\n",
    "nladot = []\n",
    "for n in range(20, 1001):\n",
    "   intladot.append(trap(-1, 1, n))\n",
    "    \n",
    "for n in range(20, 1001):\n",
    "   nladot.append(n)\n",
    "\n",
    "\n",
    "#Simpson\n",
    "def simp(a, b, n):\n",
    "    x = np.linspace(a,b,n+1)\n",
    "    y = 1/(2+np.cos(x))\n",
    "    return spi.simps(y,x)\n",
    "\n",
    "\n",
    "intlados = []\n",
    "nlados = []\n",
    "for n in range(20, 1001):\n",
    "   intlados.append(simp(-1, 1, n))\n",
    "    \n",
    "for n in range(20, 1001):\n",
    "   nlados.append(n)\n",
    "\n",
    "\n",
    "\n",
    "\n",
    "#Plotagem do gráfico\n",
    "plt.plot(nladot, intladot, label='Trapézio')\n",
    "plt.plot(nlados, intlados, label='Simpson')\n",
    "plt.title('Gráfico para integral e)')\n",
    "plt.xlabel('Número de pontos')\n",
    "plt.ylabel('Resultados da integral')\n",
    "plt.legend(bbox_to_anchor=(1.05, 1), loc='upper left', borderaxespad=0.)\n",
    "\n",
    "plt.show()"
   ]
  },
  {
   "cell_type": "code",
   "execution_count": 102,
   "id": "62f0260a",
   "metadata": {},
   "outputs": [
    {
     "data": {
      "image/png": "[encoded data removed]",
      "text/plain": [
       "<Figure size 432x288 with 1 Axes>"
      ]
     },
     "metadata": {
      "needs_background": "light"
     },
     "output_type": "display_data"
    }
   ],
   "source": [
    "import numpy as np\n",
    "import matplotlib.pyplot as plt\n",
    "import scipy.integrate as spi\n",
    "\n",
    "#Trapézio\n",
    "def trap(a, b, n):\n",
    "    x=np.linspace(a,b,n)\n",
    "    y= 1/(1 + np.exp(x))\n",
    "    return np.trapz(y,x)\n",
    "    \n",
    "\n",
    "intladot = []\n",
    "nladot = []\n",
    "for n in range(20, 1001):\n",
    "   intladot.append(trap(0, 9, n))\n",
    "    \n",
    "for n in range(20, 1001):\n",
    "   nladot.append(n)\n",
    "\n",
    "\n",
    "#Simpson\n",
    "def simp(a, b, n):\n",
    "    x = np.linspace(a,b,n+1)\n",
    "    y = 1/(1 + np.exp(x))\n",
    "    return spi.simps(y,x)\n",
    "\n",
    "\n",
    "intlados = []\n",
    "nlados = []\n",
    "for n in range(20, 1001):\n",
    "   intlados.append(simp(0, 9, n))\n",
    "    \n",
    "for n in range(20, 1001):\n",
    "   nlados.append(n)\n",
    "\n",
    "\n",
    "\n",
    "\n",
    "#Plotagem do gráfico\n",
    "plt.plot(nladot, intladot, label='Trapézio')\n",
    "plt.plot(nlados, intlados, label='Simpson')\n",
    "plt.title('Gráfico para integral f)')\n",
    "plt.xlabel('Número de pontos')\n",
    "plt.ylabel('Resultados da integral')\n",
    "plt.legend(bbox_to_anchor=(1.05, 1), loc='upper left', borderaxespad=0.)\n",
    "\n",
    "plt.show()"
   ]
  },
  {
   "cell_type": "code",
   "execution_count": 104,
   "id": "a46defb2",
   "metadata": {},
   "outputs": [
    {
     "data": {
      "image/png": "[encoded data removed]",
      "text/plain": [
       "<Figure size 432x288 with 1 Axes>"
      ]
     },
     "metadata": {
      "needs_background": "light"
     },
     "output_type": "display_data"
    }
   ],
   "source": [
    "import numpy as np\n",
    "import matplotlib.pyplot as plt\n",
    "import scipy.integrate as spi\n",
    "\n",
    "#Trapézio\n",
    "def trap(a, b, n):\n",
    "    x=np.linspace(a,b,n)\n",
    "    y= x*np.sin(x)\n",
    "    return np.trapz(y,x)\n",
    "    \n",
    "\n",
    "intladot = []\n",
    "nladot = []\n",
    "for n in range(20, 1001):\n",
    "   intladot.append(trap(1, 2, n))\n",
    "    \n",
    "for n in range(20, 1001):\n",
    "   nladot.append(n)\n",
    "\n",
    "\n",
    "#Simpson\n",
    "def simp(a, b, n):\n",
    "    x = np.linspace(a,b,n+1)\n",
    "    y = x*np.sin(x)\n",
    "    return spi.simps(y,x)\n",
    "\n",
    "\n",
    "intlados = []\n",
    "nlados = []\n",
    "for n in range(20, 1001):\n",
    "   intlados.append(simp(1, 2, n))\n",
    "    \n",
    "for n in range(20, 1001):\n",
    "   nlados.append(n)\n",
    "\n",
    "\n",
    "\n",
    "\n",
    "#Plotagem do gráfico\n",
    "plt.plot(nladot, intladot, label='Trapézio')\n",
    "plt.plot(nlados, intlados, label='Simpson')\n",
    "plt.title('Gráfico para integral g)')\n",
    "plt.xlabel('Número de pontos')\n",
    "plt.ylabel('Resultados da integral')\n",
    "plt.legend(bbox_to_anchor=(1.05, 1), loc='upper left', borderaxespad=0.)\n",
    "\n",
    "plt.show()"
   ]
  },
  {
   "cell_type": "markdown",
   "id": "419add1f",
   "metadata": {},
   "source": [
    "## b) Gráficos do erro relativo para cada uma das integrais como função de N."
   ]
  },
  {
   "cell_type": "code",
   "execution_count": 152,
   "id": "92318625",
   "metadata": {
    "scrolled": true
   },
   "outputs": [
    {
     "data": {
      "image/png": "[encoded data removed]",
      "text/plain": [
       "<Figure size 1080x360 with 2 Axes>"
      ]
     },
     "metadata": {
      "needs_background": "light"
     },
     "output_type": "display_data"
    }
   ],
   "source": [
    "import numpy as np\n",
    "import matplotlib.pyplot as plt\n",
    "import scipy.integrate as spi\n",
    "\n",
    "#Trapézio\n",
    "def erroT(a, b, n):\n",
    "    x=np.linspace(a,b,n)\n",
    "    y= np.sin(x)**2\n",
    "    trap = np.trapz(y,x)\n",
    "    return np.absolute((trap - 3.141592)/ 3.141592)\n",
    "    \n",
    "\n",
    "erroladot = []\n",
    "nladot = []\n",
    "for n in range(20, 1001):\n",
    "   erroladot.append(erroT(0, 2*np.pi, n))\n",
    "    \n",
    "for n in range(20, 1001):\n",
    "   nladot.append(n)\n",
    "\n",
    "\n",
    "#Simpson\n",
    "def erroS(a, b, n):\n",
    "    x = np.linspace(a,b,n+1)\n",
    "    y = np.sin(x)**2\n",
    "    simp = spi.simps(y,x)\n",
    "    return np.absolute((simp - 3.141592)/ 3.141592)\n",
    "\n",
    "\n",
    "errolados = []\n",
    "nlados = []\n",
    "for n in range(20, 1001):\n",
    "   errolados.append(erroS(0, 2*np.pi, n))\n",
    "    \n",
    "for n in range(20, 1001):\n",
    "   nlados.append(n)\n",
    "\n",
    "\n",
    "\n",
    "\n",
    "#Plotagem do gráfico\n",
    "plt.subplots(figsize=(15, 5))\n",
    "plt.subplot(1, 2, 1) # row 1, col 2 index 1\n",
    "plt.plot(nladot, erroladot, label='Trapézio')\n",
    "plt.title('Integral de a)')\n",
    "plt.xlabel('Número de pontos')\n",
    "plt.ylabel('Erro relativo')\n",
    "plt.legend()\n",
    "\n",
    "plt.subplot(1, 2, 2) # index 2\n",
    "plt.plot(nlados, errolados, label='Simpson', color='orange')\n",
    "plt.title('Integral de a)')\n",
    "plt.xlabel('Número de pontos')\n",
    "plt.ylabel('Erro relativo')\n",
    "plt.legend()\n",
    "\n",
    "plt.show()\n",
    "\n",
    "\n"
   ]
  },
  {
   "cell_type": "code",
   "execution_count": 160,
   "id": "60b21d2a",
   "metadata": {},
   "outputs": [
    {
     "data": {
      "image/png": "[encoded data removed]",
      "text/plain": [
       "<Figure size 1080x360 with 2 Axes>"
      ]
     },
     "metadata": {
      "needs_background": "light"
     },
     "output_type": "display_data"
    }
   ],
   "source": [
    "import numpy as np\n",
    "import matplotlib.pyplot as plt\n",
    "import scipy.integrate as spi\n",
    "\n",
    "#Trapézio\n",
    "def erroT(a, b, n):\n",
    "    x=np.linspace(a,b,n)\n",
    "    y= (np.exp((-x ** 2)/2))/(np.sqrt(2*np.pi))\n",
    "    trap = np.trapz(y,x)\n",
    "    return np.absolute((trap - 1)/ 1)\n",
    "    \n",
    "\n",
    "erroladot = []\n",
    "nladot = []\n",
    "for n in range(20, 1001):\n",
    "   erroladot.append(erroT(-10, 10, n))\n",
    "    \n",
    "for n in range(20, 1001):\n",
    "   nladot.append(n)\n",
    "\n",
    "\n",
    "#Simpson\n",
    "def erroS(a, b, n):\n",
    "    x = np.linspace(a,b,n+1)\n",
    "    y = (np.exp((-x ** 2)/2))/(np.sqrt(2*np.pi))\n",
    "    simp = spi.simps(y,x)\n",
    "    return np.absolute((simp - 1)/ 1)\n",
    "\n",
    "\n",
    "errolados = []\n",
    "nlados = []\n",
    "for n in range(20, 1001):\n",
    "   errolados.append(erroS(-10, 10, n))\n",
    "    \n",
    "for n in range(20, 1001):\n",
    "   nlados.append(n)\n",
    "\n",
    "\n",
    "\n",
    "\n",
    "#Plotagem do gráfico\n",
    "plt.subplots(figsize=(15, 5))\n",
    "plt.subplot(1, 2, 1) # row 1, col 2 index 1\n",
    "plt.plot(nladot, erroladot, label='Trapézio')\n",
    "plt.title('Integral de b)')\n",
    "plt.xlabel('Número de pontos')\n",
    "plt.ylabel('Erro relativo')\n",
    "plt.legend()\n",
    "\n",
    "plt.subplot(1, 2, 2) # index 2\n",
    "plt.plot(nlados, errolados, label='Simpson', color='orange')\n",
    "plt.title('Integral de b)')\n",
    "plt.xlabel('Número de pontos')\n",
    "plt.ylabel('Erro relativo')\n",
    "plt.legend()\n",
    "\n",
    "plt.show()"
   ]
  },
  {
   "cell_type": "code",
   "execution_count": 155,
   "id": "c72e0441",
   "metadata": {
    "scrolled": true
   },
   "outputs": [
    {
     "data": {
      "image/png": "[encoded data removed]",
      "text/plain": [
       "<Figure size 1080x360 with 2 Axes>"
      ]
     },
     "metadata": {
      "needs_background": "light"
     },
     "output_type": "display_data"
    }
   ],
   "source": [
    "import numpy as np\n",
    "import matplotlib.pyplot as plt\n",
    "import scipy.integrate as spi\n",
    "\n",
    "#Trapézio\n",
    "def erroT(a, b, n):\n",
    "    x=np.linspace(a,b,n)\n",
    "    y= 1/(x-7)\n",
    "    trap = np.trapz(y,x)\n",
    "    return np.absolute((trap +  1.0987)/ (-1.0987))\n",
    "    \n",
    "\n",
    "erroladot = []\n",
    "nladot = []\n",
    "for n in range(20, 1001):\n",
    "   erroladot.append(erroT(1, 5, n))\n",
    "    \n",
    "for n in range(20, 1001):\n",
    "   nladot.append(n)\n",
    "\n",
    "\n",
    "#Simpson\n",
    "def erroS(a, b, n):\n",
    "    x = np.linspace(a,b,n+1)\n",
    "    y = 1/(x-7)\n",
    "    simp = spi.simps(y,x)\n",
    "    return np.absolute((simp + 1.0987)/ (-1.0987))\n",
    "\n",
    "\n",
    "errolados = []\n",
    "nlados = []\n",
    "for n in range(20, 1001):\n",
    "   errolados.append(erroS(1, 5, n))\n",
    "    \n",
    "for n in range(20, 1001):\n",
    "   nlados.append(n)\n",
    "\n",
    "\n",
    "\n",
    "\n",
    "#Plotagem do gráfico\n",
    "plt.subplots(figsize=(15, 5))\n",
    "plt.subplot(1, 2, 1) # row 1, col 2 index 1\n",
    "plt.plot(nladot, erroladot, label='Trapézio')\n",
    "plt.title('Integral de c)')\n",
    "plt.xlabel('Número de pontos')\n",
    "plt.ylabel('Erro relativo')\n",
    "plt.legend()\n",
    "\n",
    "plt.subplot(1, 2, 2) # index 2\n",
    "plt.plot(nlados, errolados, label='Simpson', color='orange')\n",
    "plt.title('Integral de c)')\n",
    "plt.xlabel('Número de pontos')\n",
    "plt.ylabel('Erro relativo')\n",
    "plt.legend()\n",
    "\n",
    "plt.show()"
   ]
  },
  {
   "cell_type": "code",
   "execution_count": 161,
   "id": "78b405ca",
   "metadata": {
    "scrolled": true
   },
   "outputs": [
    {
     "data": {
      "image/png": "[encoded data removed]",
      "text/plain": [
       "<Figure size 1080x360 with 2 Axes>"
      ]
     },
     "metadata": {
      "needs_background": "light"
     },
     "output_type": "display_data"
    }
   ],
   "source": [
    "import numpy as np\n",
    "import matplotlib.pyplot as plt\n",
    "import scipy.integrate as spi\n",
    "\n",
    "#Trapézio\n",
    "def erroT(a, b, n):\n",
    "    x=np.linspace(a,b,n)\n",
    "    y= np.log(x)\n",
    "    trap = np.trapz(y,x)\n",
    "    return np.absolute((trap - 16.9852)/ 16.9852)\n",
    "    \n",
    "\n",
    "erroladot = []\n",
    "nladot = []\n",
    "for n in range(20, 1001):\n",
    "   erroladot.append(erroT(8, 15, n))\n",
    "    \n",
    "for n in range(20, 1001):\n",
    "   nladot.append(n)\n",
    "\n",
    "\n",
    "#Simpson\n",
    "def erroS(a, b, n):\n",
    "    x = np.linspace(a,b,n+1)\n",
    "    y = np.log(x)\n",
    "    simp = spi.simps(y,x)\n",
    "    return np.absolute((simp - 16.9852)/ 16.9852)\n",
    "\n",
    "\n",
    "errolados = []\n",
    "nlados = []\n",
    "for n in range(20, 1001):\n",
    "   errolados.append(erroS(8, 15, n))\n",
    "    \n",
    "for n in range(20, 1001):\n",
    "   nlados.append(n)\n",
    "\n",
    "\n",
    "\n",
    "\n",
    "#Plotagem do gráfico\n",
    "plt.subplots(figsize=(15, 5))\n",
    "plt.subplot(1, 2, 1) # row 1, col 2 index 1\n",
    "plt.plot(nladot, erroladot, label='Trapézio')\n",
    "plt.title('Integral de d)')\n",
    "plt.xlabel('Número de pontos')\n",
    "plt.ylabel('Erro relativo')\n",
    "plt.legend()\n",
    "\n",
    "plt.subplot(1, 2, 2) # index 2\n",
    "plt.plot(nlados, errolados, label='Simpson', color='orange')\n",
    "plt.title('Integral de d)')\n",
    "plt.xlabel('Número de pontos')\n",
    "plt.ylabel('Erro relativo')\n",
    "plt.legend()\n",
    "\n",
    "plt.show()"
   ]
  },
  {
   "cell_type": "code",
   "execution_count": 162,
   "id": "df0af5fa",
   "metadata": {},
   "outputs": [
    {
     "data": {
      "image/png": "[encoded data removed]",
      "text/plain": [
       "<Figure size 1080x360 with 2 Axes>"
      ]
     },
     "metadata": {
      "needs_background": "light"
     },
     "output_type": "display_data"
    }
   ],
   "source": [
    "import numpy as np\n",
    "import matplotlib.pyplot as plt\n",
    "import scipy.integrate as spi\n",
    "\n",
    "#Trapézio\n",
    "def erroT(a, b, n):\n",
    "    x=np.linspace(a,b,n)\n",
    "    y= 1/(2+np.cos(x))\n",
    "    trap = np.trapz(y,x)\n",
    "    return np.absolute((trap - 0.7056)/ 0.7056)\n",
    "    \n",
    "\n",
    "erroladot = []\n",
    "nladot = []\n",
    "for n in range(20, 1001):\n",
    "   erroladot.append(erroT(-1, 1, n))\n",
    "    \n",
    "for n in range(20, 1001):\n",
    "   nladot.append(n)\n",
    "\n",
    "\n",
    "#Simpson\n",
    "def erroS(a, b, n):\n",
    "    x = np.linspace(a,b,n+1)\n",
    "    y = 1/(2+np.cos(x))\n",
    "    simp = spi.simps(y,x)\n",
    "    return np.absolute((simp - 0.7056)/ 0.7056)\n",
    "\n",
    "\n",
    "errolados = []\n",
    "nlados = []\n",
    "for n in range(20, 1001):\n",
    "   errolados.append(erroS(-1, 1, n))\n",
    "    \n",
    "for n in range(20, 1001):\n",
    "   nlados.append(n)\n",
    "\n",
    "\n",
    "\n",
    "\n",
    "#Plotagem do gráfico\n",
    "plt.subplots(figsize=(15, 5))\n",
    "plt.subplot(1, 2, 1) # row 1, col 2 index 1\n",
    "plt.plot(nladot, erroladot, label='Trapézio')\n",
    "plt.title('Integral de e)')\n",
    "plt.xlabel('Número de pontos')\n",
    "plt.ylabel('Erro relativo')\n",
    "plt.legend()\n",
    "\n",
    "plt.subplot(1, 2, 2) # index 2\n",
    "plt.plot(nlados, errolados, label='Simpson', color='orange')\n",
    "plt.title('Integral de e)')\n",
    "plt.xlabel('Número de pontos')\n",
    "plt.ylabel('Erro relativo')\n",
    "plt.legend()\n",
    "\n",
    "plt.show()"
   ]
  },
  {
   "cell_type": "code",
   "execution_count": 165,
   "id": "0ad6eb48",
   "metadata": {},
   "outputs": [
    {
     "data": {
      "image/png": "[encoded data removed]",
      "text/plain": [
       "<Figure size 1080x360 with 2 Axes>"
      ]
     },
     "metadata": {
      "needs_background": "light"
     },
     "output_type": "display_data"
    }
   ],
   "source": [
    "import numpy as np\n",
    "import matplotlib.pyplot as plt\n",
    "import scipy.integrate as spi\n",
    "\n",
    "#Trapézio\n",
    "def erroT(a, b, n):\n",
    "    x=np.linspace(a,b,n)\n",
    "    y= 1/(1 + np.exp(x))\n",
    "    trap = np.trapz(y,x)\n",
    "    return np.absolute((trap - 0.6924)/ 0.6924)\n",
    "    \n",
    "\n",
    "erroladot = []\n",
    "nladot = []\n",
    "for n in range(20, 1001):\n",
    "   erroladot.append(erroT(0, 9, n))\n",
    "    \n",
    "for n in range(20, 1001):\n",
    "   nladot.append(n)\n",
    "\n",
    "\n",
    "#Simpson\n",
    "def erroS(a, b, n):\n",
    "    x = np.linspace(a,b,n+1)\n",
    "    y = 1/(1 + np.exp(x))\n",
    "    simp = spi.simps(y,x)\n",
    "    return np.absolute((simp - 0.6924)/ 0.6924)\n",
    "\n",
    "\n",
    "errolados = []\n",
    "nlados = []\n",
    "for n in range(20, 1001):\n",
    "   errolados.append(erroS(0, 9, n))\n",
    "    \n",
    "for n in range(20, 1001):\n",
    "   nlados.append(n)\n",
    "\n",
    "\n",
    "\n",
    "\n",
    "#Plotagem do gráfico\n",
    "plt.subplots(figsize=(15, 5))\n",
    "plt.subplot(1, 2, 1) # row 1, col 2 index 1\n",
    "plt.plot(nladot, erroladot, label='Trapézio')\n",
    "plt.title('Integral de f)')\n",
    "plt.xlabel('Número de pontos')\n",
    "plt.ylabel('Erro relativo')\n",
    "plt.legend()\n",
    "\n",
    "plt.subplot(1, 2, 2) # index 2\n",
    "plt.plot(nlados, errolados, label='Simpson', color='orange')\n",
    "plt.title('Integral de f)')\n",
    "plt.xlabel('Número de pontos')\n",
    "plt.ylabel('Erro relativo')\n",
    "plt.legend()\n",
    "\n",
    "plt.show()"
   ]
  },
  {
   "cell_type": "code",
   "execution_count": 166,
   "id": "4c4d8830",
   "metadata": {
    "scrolled": false
   },
   "outputs": [
    {
     "data": {
      "image/png": "[encoded data removed]",
      "text/plain": [
       "<Figure size 1080x360 with 2 Axes>"
      ]
     },
     "metadata": {
      "needs_background": "light"
     },
     "output_type": "display_data"
    }
   ],
   "source": [
    "import numpy as np\n",
    "import matplotlib.pyplot as plt\n",
    "import scipy.integrate as spi\n",
    "\n",
    "#Trapézio\n",
    "def erroT(a, b, n):\n",
    "    x=np.linspace(a,b,n)\n",
    "    y= x*np.sin(x)\n",
    "    trap = np.trapz(y,x)\n",
    "    return np.absolute((trap - 1.44012)/ 1.44012)\n",
    "    \n",
    "\n",
    "erroladot = []\n",
    "nladot = []\n",
    "for n in range(20, 1001):\n",
    "   erroladot.append(erroT(1, 2, n))\n",
    "    \n",
    "for n in range(20, 1001):\n",
    "   nladot.append(n)\n",
    "\n",
    "\n",
    "#Simpson\n",
    "def erroS(a, b, n):\n",
    "    x = np.linspace(a,b,n+1)\n",
    "    y = x*np.sin(x)\n",
    "    simp = spi.simps(y,x)\n",
    "    return np.absolute((simp - 1.44012)/ 1.44012)\n",
    "\n",
    "\n",
    "errolados = []\n",
    "nlados = []\n",
    "for n in range(20, 1001):\n",
    "   errolados.append(erroS(1, 2, n))\n",
    "    \n",
    "for n in range(20, 1001):\n",
    "   nlados.append(n)\n",
    "\n",
    "\n",
    "\n",
    "\n",
    "#Plotagem do gráfico\n",
    "plt.subplots(figsize=(15, 5))\n",
    "plt.subplot(1, 2, 1) # row 1, col 2 index 1\n",
    "plt.plot(nladot, erroladot, label='Trapézio')\n",
    "plt.title('Integral de g)')\n",
    "plt.xlabel('Número de pontos')\n",
    "plt.ylabel('Erro relativo')\n",
    "plt.legend()\n",
    "\n",
    "plt.subplot(1, 2, 2) # index 2\n",
    "plt.plot(nlados, errolados, label='Simpson', color='orange')\n",
    "plt.title('Integral de g)')\n",
    "plt.xlabel('Número de pontos')\n",
    "plt.ylabel('Erro relativo')\n",
    "plt.legend()\n",
    "\n",
    "plt.show()"
   ]
  },
  {
   "cell_type": "markdown",
   "id": "fe3e79e1",
   "metadata": {},
   "source": [
    "#### Agora vamos testar o último gráfico do erro relativo acima com o número de pontos pequeno (n de 1 até 3):"
   ]
  },
  {
   "cell_type": "code",
   "execution_count": 19,
   "id": "305a44d1",
   "metadata": {
    "scrolled": false
   },
   "outputs": [
    {
     "data": {
      "image/png": "[encoded data removed]",
      "text/plain": [
       "<Figure size 1080x360 with 2 Axes>"
      ]
     },
     "metadata": {
      "needs_background": "light"
     },
     "output_type": "display_data"
    }
   ],
   "source": [
    "import numpy as np\n",
    "import matplotlib.pyplot as plt\n",
    "import scipy.integrate as spi\n",
    "\n",
    "#Trapézio\n",
    "def erroT(a, b, n):\n",
    "    x=np.linspace(a,b,n)\n",
    "    y= x*np.sin(x)\n",
    "    trap = np.trapz(y,x)\n",
    "    return np.absolute((trap - 1.44012)/ 1.44012)\n",
    "    \n",
    "\n",
    "erroladot = []\n",
    "nladot = []\n",
    "for n in range(1, 3):\n",
    "   erroladot.append(erroT(1, 2, n))\n",
    "    \n",
    "for n in range(1, 3):\n",
    "   nladot.append(n)\n",
    "\n",
    "\n",
    "#Simpson\n",
    "def erroS(a, b, n):\n",
    "    x = np.linspace(a,b,n+1)\n",
    "    y = x*np.sin(x)\n",
    "    simp = spi.simps(y,x)\n",
    "    return np.absolute((simp - 1.44012)/ 1.44012)\n",
    "\n",
    "\n",
    "errolados = []\n",
    "nlados = []\n",
    "for n in range(1, 3):\n",
    "   errolados.append(erroS(1, 2, n))\n",
    "    \n",
    "for n in range(1, 3):\n",
    "   nlados.append(n)\n",
    "\n",
    "\n",
    "\n",
    "\n",
    "#Plotagem do gráfico\n",
    "plt.subplots(figsize=(15, 5))\n",
    "plt.subplot(1, 2, 1) # row 1, col 2 index 1\n",
    "plt.plot(nladot, erroladot, label='Trapézio')\n",
    "plt.title('Integral de g)')\n",
    "plt.xlabel('Número de pontos')\n",
    "plt.ylabel('Erro relativo')\n",
    "plt.legend()\n",
    "\n",
    "plt.subplot(1, 2, 2) # index 2\n",
    "plt.plot(nlados, errolados, label='Simpson', color='orange')\n",
    "plt.title('Integral de g)')\n",
    "plt.xlabel('Número de pontos')\n",
    "plt.ylabel('Erro relativo')\n",
    "plt.legend()\n",
    "\n",
    "plt.show()"
   ]
  },
  {
   "cell_type": "markdown",
   "id": "c0dc183d",
   "metadata": {},
   "source": [
    "Vemos que para valores pequenos de n, os gráficos se assemelham a retas com coeficientes angulares bem diferentes, exatamente pelo fato de um método (Regra de Simpson) se ajustar com o resultado da integral mais papidamente que o outro método."
   ]
  }
 ],
 "metadata": {
  "kernelspec": {
   "display_name": "Python 3",
   "language": "python",
   "name": "python3"
  },
  "language_info": {
   "codemirror_mode": {
    "name": "ipython",
    "version": 3
   },
   "file_extension": ".py",
   "mimetype": "text/x-python",
   "name": "python",
   "nbconvert_exporter": "python",
   "pygments_lexer": "ipython3",
   "version": "3.8.8"
  }
 },
 "nbformat": 4,
 "nbformat_minor": 5
}

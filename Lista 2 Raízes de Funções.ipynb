{
 "cells": [
  {
   "cell_type": "markdown",
   "id": "a4fb5e85-9e07-4558-bc38-4c73784cdc28",
   "metadata": {},
   "source": [
    "# Lista 2\n",
    "\n",
    "### 1) Qual é a diferença entre o método de Newton e método da secante?"
   ]
  },
  {
   "cell_type": "markdown",
   "id": "813b8f19-58a7-4d88-aa52-808c282052ae",
   "metadata": {},
   "source": [
    "O método de newton está relacionado com as retas tangentes ao gráfico da função, logo para ser realizado necessita possuir a derivada da função em questão, caso não tenha a função, não é possivel realizar este método. Já o método da secante está relacionado às retas secantes, por isso utiliza os pontos de x e y e, por isso, não necessita da função. Apesar disso, estes dois métodos realizam exatamente o mesmo processo."
   ]
  },
  {
   "cell_type": "markdown",
   "id": "dc2b903d-c7ad-4451-ac10-259fd6526107",
   "metadata": {},
   "source": [
    "### 2) Use os métodos do scipy (pelo menos via Newton e bissecção) para achar todas as raízes das funções abaixo:\n",
    "\n",
    "a) $x^2 + 9x -10 = 0$"
   ]
  },
  {
   "cell_type": "code",
   "execution_count": 24,
   "id": "f404dc21-008b-4998-b06b-24a666759e2e",
   "metadata": {},
   "outputs": [
    {
     "name": "stdout",
     "output_type": "stream",
     "text": [
      "A primeira raiz desta equação é: -10.00000000000000000000\n",
      "A segunda raiz desta equação é: 1.00000000000000022204\n"
     ]
    }
   ],
   "source": [
    "# Por Newton:\n",
    "import numpy as np\n",
    "from scipy import optimize\n",
    "\n",
    "def f(x):\n",
    "    return ((x**2)+(9*x)-10)\n",
    "\n",
    "raiz1 = optimize.newton(f, -10.5)\n",
    "print('A primeira raiz desta equação é: %.20f' %raiz1)\n",
    "raiz2 = optimize.newton(f, 1.5)\n",
    "print('A segunda raiz desta equação é: %.20f' %raiz2)"
   ]
  },
  {
   "cell_type": "code",
   "execution_count": 26,
   "id": "d78d8952-e8b0-47db-a06b-fc244bfe6491",
   "metadata": {},
   "outputs": [
    {
     "name": "stdout",
     "output_type": "stream",
     "text": [
      "A primeira raiz desta equação é: -10.00000000000000000000\n",
      "A segunda raiz desta equação é: 1.00000000000000000000\n"
     ]
    }
   ],
   "source": [
    "# Por bissecção:\n",
    "import numpy as np\n",
    "from scipy import optimize\n",
    "\n",
    "def f(x):\n",
    "    return ((x**2)+(9*x)-10)\n",
    "\n",
    "raiz1 = optimize.bisect(f,-11,-9)\n",
    "print('A primeira raiz desta equação é: %.20f' %raiz1)\n",
    "raiz2 = optimize.bisect(f, 0, 2)\n",
    "print('A segunda raiz desta equação é: %.20f' %raiz2)"
   ]
  },
  {
   "cell_type": "markdown",
   "id": "3380a327-4df9-4a76-a36d-d099c9b3cb7b",
   "metadata": {},
   "source": [
    "b) $x^3 - 6x^2 + 11x -6 = 0$"
   ]
  },
  {
   "cell_type": "code",
   "execution_count": 76,
   "id": "503b190f-d75c-40eb-9de1-0c10587e1231",
   "metadata": {},
   "outputs": [
    {
     "name": "stdout",
     "output_type": "stream",
     "text": [
      "A primeira raiz desta equação é: 0.99999999999999977796\n",
      "A segunda raiz desta equação é: 1.99999999999999955591\n",
      "A terceira raiz desta equação é: 2.99999999999999777955\n"
     ]
    }
   ],
   "source": [
    "# Por Newton:\n",
    "import numpy as np\n",
    "from scipy import optimize\n",
    "\n",
    "def f(x):\n",
    "    return ((x**3)-(6*x**2)+(11*x)-6)\n",
    "\n",
    "raiz1 = optimize.newton(f, 0.5)\n",
    "print('A primeira raiz desta equação é: %.20f' %raiz1)\n",
    "raiz2 = optimize.newton(f, 2.10)\n",
    "print('A segunda raiz desta equação é: %.20f' %raiz2)\n",
    "raiz3 = optimize.newton(f, 3.5)\n",
    "print('A terceira raiz desta equação é: %.20f' %raiz3)"
   ]
  },
  {
   "cell_type": "code",
   "execution_count": 79,
   "id": "b98b6bbe-ad12-4fb9-9f4e-aeb250a3f319",
   "metadata": {},
   "outputs": [
    {
     "name": "stdout",
     "output_type": "stream",
     "text": [
      "A primeira raiz desta equação é: 1.00000000000045474735\n",
      "A segunda raiz desta equação é: 2.00000000000000000000\n",
      "A terceira raiz desta equação é: 3.00000000000000000000\n"
     ]
    }
   ],
   "source": [
    "# Por bissecção:\n",
    "import numpy as np\n",
    "from scipy import optimize\n",
    "\n",
    "def f(x):\n",
    "    return ((x**3)-(6*x**2)+(11*x)-6)\n",
    "\n",
    "raiz1 = optimize.bisect(f, 0, 1.5)\n",
    "print('A primeira raiz desta equação é: %.20f' %raiz1)\n",
    "raiz2 = optimize.bisect(f, 1.5, 2.5)\n",
    "print('A segunda raiz desta equação é: %.20f' %raiz2)\n",
    "raiz3 = optimize.bisect(f, 2.5, 3.5)\n",
    "print('A terceira raiz desta equação é: %.20f' %raiz3)"
   ]
  },
  {
   "cell_type": "markdown",
   "id": "eeb5821b-ebbf-4b46-b88c-58ffc80a63ef",
   "metadata": {},
   "source": [
    "c) $sin(x) = \\alpha x$ para $\\alpha = 0.1$ logo $sin(x) - 0.1x = 0$"
   ]
  },
  {
   "cell_type": "code",
   "execution_count": 6,
   "id": "bb74208b-b9d2-448c-86ad-97597cc121e5",
   "metadata": {},
   "outputs": [
    {
     "name": "stdout",
     "output_type": "stream",
     "text": [
      "A primeira raiz desta equação é: -8.42320393236049191898\n",
      "A segunda raiz desta equação é: -7.06817435809581784412\n",
      "A terceira raiz desta equação é: -2.85234189445012420450\n",
      "A quarta raiz desta equação é: 0.00000000000000000000\n",
      "A quinta raiz desta equação é: 2.85234189445012420450\n",
      "A sexta raiz desta equação é: 7.06817435809581784412\n",
      "A sétima raiz desta equação é: 8.42320393236064290932\n"
     ]
    }
   ],
   "source": [
    "# Por Newton:\n",
    "import numpy as np\n",
    "from scipy import optimize\n",
    "\n",
    "def f(x):\n",
    "    return np.sin(x) - 0.1*x\n",
    "\n",
    "raiz1 = optimize.newton(f, -10)\n",
    "print('A primeira raiz desta equação é: %.20f' %raiz1)\n",
    "raiz2 = optimize.newton(f, -7)\n",
    "print('A segunda raiz desta equação é: %.20f' %raiz2)\n",
    "raiz3 = optimize.newton(f, -3)\n",
    "print('A terceira raiz desta equação é: %.20f' %raiz3)\n",
    "raiz4 = optimize.newton(f, 0)\n",
    "print('A quarta raiz desta equação é: %.20f' %raiz4)\n",
    "raiz5 = optimize.newton(f, 3)\n",
    "print('A quinta raiz desta equação é: %.20f' %raiz5)\n",
    "raiz6 = optimize.newton(f, 7)\n",
    "print('A sexta raiz desta equação é: %.20f' %raiz6)\n",
    "raiz7 = optimize.newton(f, 9)\n",
    "print('A sétima raiz desta equação é: %.20f' %raiz7)"
   ]
  },
  {
   "cell_type": "code",
   "execution_count": 7,
   "id": "b90275a6-e86e-4e1f-9722-efde7328555a",
   "metadata": {},
   "outputs": [
    {
     "name": "stdout",
     "output_type": "stream",
     "text": [
      "A primeira raiz desta equação é: -8.42320393235968367662\n",
      "A segunda raiz desta equação é: -7.06817435809580274508\n",
      "A terceira raiz desta equação é: -2.85234189445145602804\n",
      "A quarta raiz desta equação é: 0.00000000000000000000\n",
      "A quinta raiz desta equação é: 2.85234189445145602804\n",
      "A sexta raiz desta equação é: 7.06817435809534799773\n",
      "A sétima raiz desta equação é: 8.42320393235968367662\n"
     ]
    }
   ],
   "source": [
    "# Por bissecção:\n",
    "import numpy as np\n",
    "from scipy import optimize\n",
    "\n",
    "def f(x):\n",
    "    return np.sin(x) - 0.1*x\n",
    "\n",
    "raiz1 = optimize.bisect(f, -9, -8)\n",
    "print('A primeira raiz desta equação é: %.20f' %raiz1)\n",
    "raiz2 = optimize.bisect(f, -8, -5)\n",
    "print('A segunda raiz desta equação é: %.20f' %raiz2)\n",
    "raiz3 = optimize.bisect(f, -3, -2)\n",
    "print('A terceira raiz desta equação é: %.20f' %raiz3)\n",
    "raiz4 = optimize.bisect(f, -1, 1)\n",
    "print('A quarta raiz desta equação é: %.20f' %raiz4)\n",
    "raiz5 = optimize.bisect(f, 2, 3)\n",
    "print('A quinta raiz desta equação é: %.20f' %raiz5)\n",
    "raiz6 = optimize.bisect(f, 6, 8)\n",
    "print('A sexta raiz desta equação é: %.20f' %raiz6)\n",
    "raiz7 = optimize.bisect(f, 8, 9)\n",
    "print('A sétima raiz desta equação é: %.20f' %raiz7)"
   ]
  },
  {
   "cell_type": "markdown",
   "id": "4f1a1f9d-6f23-4a60-b4ca-828cfe9a30e7",
   "metadata": {},
   "source": [
    "### 3) Para cada caso acima, faça um gráfico das funções do lado esquerdo e do lado direito da igualdade, e use pontos para marcar as raízes, como na figura abaixo:\n",
    "\n",
    "a)"
   ]
  },
  {
   "cell_type": "code",
   "execution_count": 33,
   "id": "8fdfb6a3-db2f-4572-aee1-58f25960ee83",
   "metadata": {},
   "outputs": [
    {
     "data": {
      "image/png": "[encoded data removed]",
      "text/plain": [
       "<Figure size 432x288 with 1 Axes>"
      ]
     },
     "metadata": {
      "needs_background": "light"
     },
     "output_type": "display_data"
    }
   ],
   "source": [
    "# Por Newton:\n",
    "import numpy as np\n",
    "from scipy import optimize\n",
    "import matplotlib.pyplot as plt\n",
    "\n",
    "x1 = np.arange(-11, 2, 0.1)\n",
    "\n",
    "def f(x):\n",
    "    return ((x**2)+(9*x)-10)\n",
    "\n",
    "raiz1 = optimize.newton(f, -10.5)\n",
    "plt.scatter(raiz1, f(raiz1))\n",
    "plt.annotate(\"Raiz 1\", (raiz1, f(raiz1)))\n",
    "\n",
    "raiz2 = optimize.newton(f, 1.5)\n",
    "plt.scatter(raiz2, f(raiz2))\n",
    "plt.annotate(\"Raiz 2\", (raiz2, f(raiz2)))\n",
    "\n",
    "plt.title('Gráfico da função f(x)')\n",
    "plt.xlabel('x')\n",
    "plt.ylabel('f(x)')\n",
    "plt.plot(x1, f(x1).astype(float))\n",
    "\n",
    "plt.show()\n",
    "\n"
   ]
  },
  {
   "cell_type": "markdown",
   "id": "d8c9d687-4023-409b-bed4-e79c01f99efc",
   "metadata": {},
   "source": [
    "b)"
   ]
  },
  {
   "cell_type": "code",
   "execution_count": 32,
   "id": "86506dd4-9ff0-4499-8c0a-30f3ea28e4b7",
   "metadata": {
    "scrolled": true
   },
   "outputs": [
    {
     "data": {
      "image/png": "[encoded data removed]",
      "text/plain": [
       "<Figure size 432x288 with 1 Axes>"
      ]
     },
     "metadata": {
      "needs_background": "light"
     },
     "output_type": "display_data"
    }
   ],
   "source": [
    "# Por Newton:\n",
    "import numpy as np\n",
    "from scipy import optimize\n",
    "import matplotlib.pyplot as plt\n",
    "\n",
    "x1 = np.arange(0, 4, 0.1)\n",
    "\n",
    "def f(x):\n",
    "    return ((x**3)-(6*x**2)+(11*x)-6)\n",
    "\n",
    "raiz1 = optimize.newton(f, 0.5)\n",
    "plt.scatter(raiz1, f(raiz1))\n",
    "plt.annotate(\"Raiz 1\", (raiz1, f(raiz1)))\n",
    "\n",
    "raiz2 = optimize.newton(f, 2.10)\n",
    "plt.scatter(raiz2, f(raiz2))\n",
    "plt.annotate(\"Raiz 2\", (raiz2, f(raiz2)))\n",
    "\n",
    "raiz3 = optimize.newton(f, 3.50)\n",
    "plt.scatter(raiz3, f(raiz3))\n",
    "plt.annotate(\"Raiz 3\", (raiz3, f(raiz3)))\n",
    "\n",
    "plt.title('Gráfico da função f(x)')\n",
    "plt.xlabel('x')\n",
    "plt.ylabel('f(x)')\n",
    "plt.plot(x1, f(x1).astype(float))\n",
    "\n",
    "plt.plot(x1, f(x1).astype(float))\n",
    "plt.show()"
   ]
  },
  {
   "cell_type": "code",
   "execution_count": 51,
   "id": "66183b72",
   "metadata": {},
   "outputs": [
    {
     "data": {
      "image/png": "[encoded data removed]",
      "text/plain": [
       "<Figure size 432x288 with 1 Axes>"
      ]
     },
     "metadata": {
      "needs_background": "light"
     },
     "output_type": "display_data"
    }
   ],
   "source": [
    "# Gráfico por Newton para a função sen(x)-0.1x = 0 :\n",
    "import numpy as np\n",
    "from scipy import optimize\n",
    "import matplotlib.pyplot as plt\n",
    "\n",
    "x1 = np.arange(-12, 12, 0.1)\n",
    "\n",
    "def f(x):\n",
    "    return np.sin(x) - (0.1*x)\n",
    "\n",
    "raiz1 = optimize.newton(f, -10)\n",
    "plt.scatter(raiz1, f(raiz1))\n",
    "plt.annotate(\"Raiz 1\", (raiz1, f(raiz1)), (-11, f(raiz1)))\n",
    "raiz2 = optimize.newton(f, -7)\n",
    "plt.scatter(raiz2, f(raiz2))\n",
    "plt.annotate(\"Raiz 2\", (raiz2, f(raiz2)))\n",
    "raiz3 = optimize.newton(f, -3)\n",
    "plt.scatter(raiz3, f(raiz3))\n",
    "plt.annotate(\"Raiz 3\", (raiz3, f(raiz3)))\n",
    "raiz4 = optimize.newton(f, 0)\n",
    "plt.scatter(raiz4, f(raiz4))\n",
    "plt.annotate(\"Raiz 4\", (raiz4, f(raiz4)))\n",
    "raiz5 = optimize.newton(f, 3)\n",
    "plt.scatter(raiz5, f(raiz5))\n",
    "plt.annotate(\"Raiz 5\", (raiz5, f(raiz5)))\n",
    "raiz6 = optimize.newton(f, 7)\n",
    "plt.scatter(raiz6, f(raiz6))\n",
    "plt.annotate(\"Raiz 6\", (raiz6, f(raiz6)), (5, -0.25))\n",
    "raiz7 = optimize.newton(f, 9)\n",
    "plt.scatter(raiz7, f(raiz7))\n",
    "plt.annotate(\"Raiz 7\", (raiz7, f(raiz7)))\n",
    "\n",
    "plt.plot(x1, f(x1).astype(float))\n",
    "plt.title('Gráfico das funções f(x)')\n",
    "plt.xlabel('x')\n",
    "plt.ylabel('f(x)')\n",
    "\n",
    "plt.show()"
   ]
  },
  {
   "cell_type": "code",
   "execution_count": 43,
   "id": "49224dba-e4b5-4267-a205-757dd0eb17a3",
   "metadata": {},
   "outputs": [
    {
     "data": {
      "image/png": "[encoded data removed]",
      "text/plain": [
       "<Figure size 432x288 with 1 Axes>"
      ]
     },
     "metadata": {
      "needs_background": "light"
     },
     "output_type": "display_data"
    }
   ],
   "source": [
    "# Gráfico por Newton para as funções do lado esquerdo e do lado direito da igualdade sen(x) e 0.1x :\n",
    "import numpy as np\n",
    "from scipy import optimize\n",
    "import matplotlib.pyplot as plt\n",
    "\n",
    "x1 = np.arange(-12, 12, 0.1)\n",
    "\n",
    "def f(x):\n",
    "    return np.sin(x)\n",
    "\n",
    "def g(x):\n",
    "    return (0.1*x)\n",
    "\n",
    "def h(x):\n",
    "    return np.sin(x) - (0.1*x)\n",
    "\n",
    "raiz1 = optimize.newton(h, -10)\n",
    "plt.scatter(raiz1, f(raiz1))\n",
    "plt.annotate(\"Raiz 1\", (raiz1, f(raiz1)))\n",
    "raiz2 = optimize.newton(h, -7)\n",
    "plt.scatter(raiz2, f(raiz2))\n",
    "plt.annotate(\"Raiz 2\", (raiz2, f(raiz2)))\n",
    "raiz3 = optimize.newton(h, -3)\n",
    "plt.scatter(raiz3, f(raiz3))\n",
    "plt.annotate(\"Raiz 3\", (raiz3, f(raiz3)))\n",
    "raiz4 = optimize.newton(h, 0)\n",
    "plt.scatter(raiz4, f(raiz4))\n",
    "plt.annotate(\"Raiz 4\", (raiz4, f(raiz4)))\n",
    "raiz5 = optimize.newton(h, 3)\n",
    "plt.scatter(raiz5, f(raiz5))\n",
    "plt.annotate(\"Raiz 5\", (raiz5, f(raiz5)))\n",
    "raiz6 = optimize.newton(h, 7)\n",
    "plt.scatter(raiz6, f(raiz6))\n",
    "plt.annotate(\"Raiz 6\", (raiz6, f(raiz6)))\n",
    "raiz7 = optimize.newton(h, 9)\n",
    "plt.scatter(raiz7, f(raiz7))\n",
    "plt.annotate(\"Raiz 7\", (raiz7, f(raiz7)))\n",
    "\n",
    "plt.plot(x1, f(x1).astype(float), label='f(x) = sen(x)')\n",
    "plt.plot(x1, g(x1).astype(float), label='g(x) = 0.1x')\n",
    "plt.title('Gráfico das funções f(x) e g(x)')\n",
    "plt.xlabel('x')\n",
    "plt.ylabel('f(x)')\n",
    "plt.legend(bbox_to_anchor=(1.05, 1), loc='upper left', borderaxespad=0.)\n",
    "\n",
    "plt.show()"
   ]
  },
  {
   "cell_type": "markdown",
   "id": "068e69c6-ccbd-4c3f-a220-72d626e5ee82",
   "metadata": {},
   "source": [
    "### 4) Ao invés de utilizar o scipy, escreva seu próprio código para achar as raízes. Use o método de Newton/secante ou da bisseção."
   ]
  },
  {
   "cell_type": "code",
   "execution_count": 29,
   "id": "2d0d1468",
   "metadata": {},
   "outputs": [
    {
     "name": "stdout",
     "output_type": "stream",
     "text": [
      "Raiz da função = 1.000064\n",
      "Número de interações =  3\n",
      "Raiz da função = -9.999997\n",
      "Número de interações =  4\n"
     ]
    }
   ],
   "source": [
    "# Primeiro caso pelo método da secante:\n",
    "def f(x):\n",
    "    f = ((x**2)+(9*x)-10);\n",
    "    return f;\n",
    " \n",
    "def secant(x1, x2, E):\n",
    "    n = 0; xm = 0; x0 = 0; c = 0;\n",
    "    if (f(x1) * f(x2) < 0):\n",
    "        while True:\n",
    "            x0 = ((x1 * f(x2) - x2 * f(x1)) /(f(x2) - f(x1)));\n",
    "            c = f(x1) * f(x0);\n",
    "            x1 = x2;\n",
    "            x2 = x0;\n",
    "            n += 1;\n",
    "            if (c == 0):\n",
    "                break;\n",
    "            xm = ((x1 * f(x2) - x2 * f(x1)) /(f(x2) - f(x1)));\n",
    "             \n",
    "            if(abs(xm - x0) < E):\n",
    "                break;\n",
    "         \n",
    "        print(\"Raiz da função =\", round(x0, 6));\n",
    "        print(\"Número de interações = \", n);\n",
    "         \n",
    "    else:\n",
    "        print(\"Não tem raiz nesse intervalo \");\n",
    "\n",
    "x1 = 0;\n",
    "x2 = 2;\n",
    "E = 0.0001;\n",
    "secant(x1, x2, E);\n",
    "\n",
    "x1 = -11;\n",
    "x2 = -8;\n",
    "E = 0.0001;\n",
    "secant(x1, x2, E);\n",
    " "
   ]
  }
 ],
 "metadata": {
  "kernelspec": {
   "display_name": "Python 3",
   "language": "python",
   "name": "python3"
  },
  "language_info": {
   "codemirror_mode": {
    "name": "ipython",
    "version": 3
   },
   "file_extension": ".py",
   "mimetype": "text/x-python",
   "name": "python",
   "nbconvert_exporter": "python",
   "pygments_lexer": "ipython3",
   "version": "3.8.8"
  }
 },
 "nbformat": 4,
 "nbformat_minor": 5
}
